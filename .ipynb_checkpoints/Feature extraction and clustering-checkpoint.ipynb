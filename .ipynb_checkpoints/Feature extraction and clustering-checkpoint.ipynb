{
 "cells": [
  {
   "cell_type": "code",
   "execution_count": 9,
   "id": "f25a3a24",
   "metadata": {},
   "outputs": [],
   "source": [
    "import torch\n",
    "import torchaudio as ta\n",
    "import numpy as np\n",
    "import pandas as pd\n",
    "import matplotlib.pyplot as plt\n",
    "import ffmpeg\n",
    "import IPython\n",
    "import librosa\n",
    "import sklearn\n",
    "from sklearn.cluster import KMeans\n",
    "from sklearn.model_selection import train_test_split\n",
    "ta.set_audio_backend(\"sox_io\")"
   ]
  },
  {
   "cell_type": "code",
   "execution_count": 10,
   "id": "c160980c",
   "metadata": {},
   "outputs": [],
   "source": [
    "number = 5\n",
    "data_paths = './dataset/'\n",
    "data_path = data_paths + \"voice/s{}.m4a\".format(number)\n",
    "data_path_out = data_paths + \"voice/s{}.wav\".format(number)\n",
    "labels_path = data_paths + \"key_and_time/s{}.txt\".format(number)\n",
    "detections_path = data_paths + \"detections/s{}.txt\".format(number)"
   ]
  },
  {
   "cell_type": "code",
   "execution_count": 11,
   "id": "c190aad1",
   "metadata": {},
   "outputs": [],
   "source": [
    "waveform, sample_rate = ta.load(data_path_out)\n",
    "labels = pd.read_csv(labels_path, delimiter=\"\\\"\", header=0, usecols=[3, 7], \\\n",
    "                          names=['key', 'time']).dropna()\n",
    "detections = pd.read_csv(detections_path, index_col=0)\n",
    "labels['time'] /= 1000"
   ]
  },
  {
   "cell_type": "code",
   "execution_count": 75,
   "id": "c16efc53",
   "metadata": {},
   "outputs": [],
   "source": [
    "detections['start_sample'] = detections['start'] * sample_rate\n",
    "detections['stop_sample'] = detections['stop'] * sample_rate\n",
    "labels['time_sample'] = labels['time']/1000 * sample_rate"
   ]
  },
  {
   "cell_type": "code",
   "execution_count": 252,
   "id": "9276381c",
   "metadata": {},
   "outputs": [
    {
     "name": "stderr",
     "output_type": "stream",
     "text": [
      "/Users/sierrawyllie/PythonEnvs/324Project/lib/python3.8/site-packages/librosa/feature/spectral.py:2157: UserWarning: Empty filters detected in mel frequency basis. Some channels will produce empty responses. Try increasing your sampling rate (and fmax) or reducing n_mels.\n",
      "  mel_basis = filters.mel(sr=sr, n_fft=n_fft, **kwargs)\n",
      "/Users/sierrawyllie/PythonEnvs/324Project/lib/python3.8/site-packages/librosa/feature/spectral.py:2157: UserWarning: Empty filters detected in mel frequency basis. Some channels will produce empty responses. Try increasing your sampling rate (and fmax) or reducing n_mels.\n",
      "  mel_basis = filters.mel(sr=sr, n_fft=n_fft, **kwargs)\n",
      "/Users/sierrawyllie/PythonEnvs/324Project/lib/python3.8/site-packages/librosa/feature/spectral.py:2157: UserWarning: Empty filters detected in mel frequency basis. Some channels will produce empty responses. Try increasing your sampling rate (and fmax) or reducing n_mels.\n",
      "  mel_basis = filters.mel(sr=sr, n_fft=n_fft, **kwargs)\n",
      "/Users/sierrawyllie/PythonEnvs/324Project/lib/python3.8/site-packages/librosa/feature/spectral.py:2157: UserWarning: Empty filters detected in mel frequency basis. Some channels will produce empty responses. Try increasing your sampling rate (and fmax) or reducing n_mels.\n",
      "  mel_basis = filters.mel(sr=sr, n_fft=n_fft, **kwargs)\n",
      "/Users/sierrawyllie/PythonEnvs/324Project/lib/python3.8/site-packages/librosa/feature/spectral.py:2157: UserWarning: Empty filters detected in mel frequency basis. Some channels will produce empty responses. Try increasing your sampling rate (and fmax) or reducing n_mels.\n",
      "  mel_basis = filters.mel(sr=sr, n_fft=n_fft, **kwargs)\n",
      "/Users/sierrawyllie/PythonEnvs/324Project/lib/python3.8/site-packages/librosa/feature/spectral.py:2157: UserWarning: Empty filters detected in mel frequency basis. Some channels will produce empty responses. Try increasing your sampling rate (and fmax) or reducing n_mels.\n",
      "  mel_basis = filters.mel(sr=sr, n_fft=n_fft, **kwargs)\n",
      "/Users/sierrawyllie/PythonEnvs/324Project/lib/python3.8/site-packages/librosa/feature/spectral.py:2157: UserWarning: Empty filters detected in mel frequency basis. Some channels will produce empty responses. Try increasing your sampling rate (and fmax) or reducing n_mels.\n",
      "  mel_basis = filters.mel(sr=sr, n_fft=n_fft, **kwargs)\n",
      "/Users/sierrawyllie/PythonEnvs/324Project/lib/python3.8/site-packages/librosa/feature/spectral.py:2157: UserWarning: Empty filters detected in mel frequency basis. Some channels will produce empty responses. Try increasing your sampling rate (and fmax) or reducing n_mels.\n",
      "  mel_basis = filters.mel(sr=sr, n_fft=n_fft, **kwargs)\n",
      "/Users/sierrawyllie/PythonEnvs/324Project/lib/python3.8/site-packages/librosa/feature/spectral.py:2157: UserWarning: Empty filters detected in mel frequency basis. Some channels will produce empty responses. Try increasing your sampling rate (and fmax) or reducing n_mels.\n",
      "  mel_basis = filters.mel(sr=sr, n_fft=n_fft, **kwargs)\n",
      "/Users/sierrawyllie/PythonEnvs/324Project/lib/python3.8/site-packages/librosa/feature/spectral.py:2157: UserWarning: Empty filters detected in mel frequency basis. Some channels will produce empty responses. Try increasing your sampling rate (and fmax) or reducing n_mels.\n",
      "  mel_basis = filters.mel(sr=sr, n_fft=n_fft, **kwargs)\n",
      "/Users/sierrawyllie/PythonEnvs/324Project/lib/python3.8/site-packages/librosa/feature/spectral.py:2157: UserWarning: Empty filters detected in mel frequency basis. Some channels will produce empty responses. Try increasing your sampling rate (and fmax) or reducing n_mels.\n",
      "  mel_basis = filters.mel(sr=sr, n_fft=n_fft, **kwargs)\n",
      "/Users/sierrawyllie/PythonEnvs/324Project/lib/python3.8/site-packages/librosa/feature/spectral.py:2157: UserWarning: Empty filters detected in mel frequency basis. Some channels will produce empty responses. Try increasing your sampling rate (and fmax) or reducing n_mels.\n",
      "  mel_basis = filters.mel(sr=sr, n_fft=n_fft, **kwargs)\n"
     ]
    }
   ],
   "source": [
    "da_features = []\n",
    "da_labels = []\n",
    "seq_lens = []\n",
    "for number in range(12):\n",
    "    d_set_size = 0\n",
    "    data_paths = './dataset/'\n",
    "    data_path = data_paths + \"voice/s{}.m4a\".format(number)\n",
    "    data_path_out = data_paths + \"voice/s{}.wav\".format(number)\n",
    "    labels_path = data_paths + \"key_and_time/s{}.txt\".format(number)\n",
    "    labels = pd.read_csv(labels_path, delimiter=\"\\\"\", header=0, usecols=[3, 7], \\\n",
    "                          names=['key', 'time']).dropna()\n",
    "    labels['time_sample'] = labels['time']/1000 * sample_rate\n",
    "    detections_path = data_paths + \"detections/s{}.txt\".format(number)\n",
    "    detections = pd.read_csv(detections_path, index_col=0)\n",
    "    detections['start_sample'] = detections['start'] * sample_rate\n",
    "    detections['stop_sample'] = detections['stop'] * sample_rate\n",
    "    for i in range(len(detections)):\n",
    "        start = int(detections['start_sample'][i])\n",
    "        stop = int(detections['stop_sample'][i])\n",
    "        labels['dist_to_start'] = np.abs(labels['time_sample'] - start)\n",
    "        min_idx = labels['dist_to_start'].idxmin()\n",
    "        \n",
    "        label = labels['key'][min_idx]\n",
    "        \n",
    "        keypress = np.array(waveform[:, start:stop])\n",
    "        length = stop - start\n",
    "        n_mels = 10\n",
    "        features = librosa.feature.mfcc(y=keypress, sr=sample_rate, n_mfcc=n_mels, hop_length=1, n_fft=int(length/5))\n",
    "        #print(features.shape)\n",
    "        #if features.shape == (1, n_mels, 2):\n",
    "        da_features.append(features.flatten()[:n_mels*2395])\n",
    "        da_labels.append(label)\n",
    "        number_det += 1\n",
    "        d_set_size += 1\n",
    "#         else: \n",
    "#             print('fail')\n",
    "#             \n",
    "    seq_lens.append(d_set_size)\n"
   ]
  },
  {
   "cell_type": "code",
   "execution_count": 253,
   "id": "da161002",
   "metadata": {},
   "outputs": [],
   "source": [
    "da_features = np.array(da_features).reshape(-1, n_mels*2395)"
   ]
  },
  {
   "cell_type": "code",
   "execution_count": 254,
   "id": "d8999d71",
   "metadata": {},
   "outputs": [
    {
     "data": {
      "text/plain": [
       "(3756, 23950)"
      ]
     },
     "execution_count": 254,
     "metadata": {},
     "output_type": "execute_result"
    }
   ],
   "source": [
    "da_features.shape"
   ]
  },
  {
   "cell_type": "code",
   "execution_count": 255,
   "id": "82846d35",
   "metadata": {},
   "outputs": [],
   "source": [
    "da_labels = pd.DataFrame(da_labels, columns=['true label'])"
   ]
  },
  {
   "cell_type": "code",
   "execution_count": 256,
   "id": "4972b78b",
   "metadata": {},
   "outputs": [],
   "source": [
    "n_samples = da_features.shape[0]\n",
    "X_train = da_features[:int(.8*n_samples), :]\n",
    "y_train = da_labels[:int(.8*n_samples)]\n",
    "X_val = da_features[int(.8*n_samples):, :]\n",
    "y_val = da_labels[int(.8*n_samples):]"
   ]
  },
  {
   "cell_type": "code",
   "execution_count": 257,
   "id": "feb01570",
   "metadata": {},
   "outputs": [],
   "source": [
    "from sklearn.ensemble import RandomForestClassifier"
   ]
  },
  {
   "cell_type": "code",
   "execution_count": 258,
   "id": "36145590",
   "metadata": {},
   "outputs": [],
   "source": [
    "model = RandomForestClassifier(n_estimators=300)"
   ]
  },
  {
   "cell_type": "code",
   "execution_count": 259,
   "id": "fbd2e8b4",
   "metadata": {},
   "outputs": [
    {
     "data": {
      "text/plain": [
       "(3004, 23950)"
      ]
     },
     "execution_count": 259,
     "metadata": {},
     "output_type": "execute_result"
    }
   ],
   "source": [
    "X_train.shape"
   ]
  },
  {
   "cell_type": "code",
   "execution_count": 260,
   "id": "3b7f8b0b",
   "metadata": {},
   "outputs": [],
   "source": [
    "labs_forest = y_train['true label'].to_numpy().flatten()\n",
    "vlabs_forest = y_val['true label'].to_numpy().flatten()"
   ]
  },
  {
   "cell_type": "code",
   "execution_count": 261,
   "id": "bef4e4dd",
   "metadata": {},
   "outputs": [
    {
     "data": {
      "text/html": [
       "<style>#sk-container-id-8 {color: black;background-color: white;}#sk-container-id-8 pre{padding: 0;}#sk-container-id-8 div.sk-toggleable {background-color: white;}#sk-container-id-8 label.sk-toggleable__label {cursor: pointer;display: block;width: 100%;margin-bottom: 0;padding: 0.3em;box-sizing: border-box;text-align: center;}#sk-container-id-8 label.sk-toggleable__label-arrow:before {content: \"▸\";float: left;margin-right: 0.25em;color: #696969;}#sk-container-id-8 label.sk-toggleable__label-arrow:hover:before {color: black;}#sk-container-id-8 div.sk-estimator:hover label.sk-toggleable__label-arrow:before {color: black;}#sk-container-id-8 div.sk-toggleable__content {max-height: 0;max-width: 0;overflow: hidden;text-align: left;background-color: #f0f8ff;}#sk-container-id-8 div.sk-toggleable__content pre {margin: 0.2em;color: black;border-radius: 0.25em;background-color: #f0f8ff;}#sk-container-id-8 input.sk-toggleable__control:checked~div.sk-toggleable__content {max-height: 200px;max-width: 100%;overflow: auto;}#sk-container-id-8 input.sk-toggleable__control:checked~label.sk-toggleable__label-arrow:before {content: \"▾\";}#sk-container-id-8 div.sk-estimator input.sk-toggleable__control:checked~label.sk-toggleable__label {background-color: #d4ebff;}#sk-container-id-8 div.sk-label input.sk-toggleable__control:checked~label.sk-toggleable__label {background-color: #d4ebff;}#sk-container-id-8 input.sk-hidden--visually {border: 0;clip: rect(1px 1px 1px 1px);clip: rect(1px, 1px, 1px, 1px);height: 1px;margin: -1px;overflow: hidden;padding: 0;position: absolute;width: 1px;}#sk-container-id-8 div.sk-estimator {font-family: monospace;background-color: #f0f8ff;border: 1px dotted black;border-radius: 0.25em;box-sizing: border-box;margin-bottom: 0.5em;}#sk-container-id-8 div.sk-estimator:hover {background-color: #d4ebff;}#sk-container-id-8 div.sk-parallel-item::after {content: \"\";width: 100%;border-bottom: 1px solid gray;flex-grow: 1;}#sk-container-id-8 div.sk-label:hover label.sk-toggleable__label {background-color: #d4ebff;}#sk-container-id-8 div.sk-serial::before {content: \"\";position: absolute;border-left: 1px solid gray;box-sizing: border-box;top: 0;bottom: 0;left: 50%;z-index: 0;}#sk-container-id-8 div.sk-serial {display: flex;flex-direction: column;align-items: center;background-color: white;padding-right: 0.2em;padding-left: 0.2em;position: relative;}#sk-container-id-8 div.sk-item {position: relative;z-index: 1;}#sk-container-id-8 div.sk-parallel {display: flex;align-items: stretch;justify-content: center;background-color: white;position: relative;}#sk-container-id-8 div.sk-item::before, #sk-container-id-8 div.sk-parallel-item::before {content: \"\";position: absolute;border-left: 1px solid gray;box-sizing: border-box;top: 0;bottom: 0;left: 50%;z-index: -1;}#sk-container-id-8 div.sk-parallel-item {display: flex;flex-direction: column;z-index: 1;position: relative;background-color: white;}#sk-container-id-8 div.sk-parallel-item:first-child::after {align-self: flex-end;width: 50%;}#sk-container-id-8 div.sk-parallel-item:last-child::after {align-self: flex-start;width: 50%;}#sk-container-id-8 div.sk-parallel-item:only-child::after {width: 0;}#sk-container-id-8 div.sk-dashed-wrapped {border: 1px dashed gray;margin: 0 0.4em 0.5em 0.4em;box-sizing: border-box;padding-bottom: 0.4em;background-color: white;}#sk-container-id-8 div.sk-label label {font-family: monospace;font-weight: bold;display: inline-block;line-height: 1.2em;}#sk-container-id-8 div.sk-label-container {text-align: center;}#sk-container-id-8 div.sk-container {/* jupyter's `normalize.less` sets `[hidden] { display: none; }` but bootstrap.min.css set `[hidden] { display: none !important; }` so we also need the `!important` here to be able to override the default hidden behavior on the sphinx rendered scikit-learn.org. See: https://github.com/scikit-learn/scikit-learn/issues/21755 */display: inline-block !important;position: relative;}#sk-container-id-8 div.sk-text-repr-fallback {display: none;}</style><div id=\"sk-container-id-8\" class=\"sk-top-container\"><div class=\"sk-text-repr-fallback\"><pre>RandomForestClassifier(n_estimators=300)</pre><b>In a Jupyter environment, please rerun this cell to show the HTML representation or trust the notebook. <br />On GitHub, the HTML representation is unable to render, please try loading this page with nbviewer.org.</b></div><div class=\"sk-container\" hidden><div class=\"sk-item\"><div class=\"sk-estimator sk-toggleable\"><input class=\"sk-toggleable__control sk-hidden--visually\" id=\"sk-estimator-id-8\" type=\"checkbox\" checked><label for=\"sk-estimator-id-8\" class=\"sk-toggleable__label sk-toggleable__label-arrow\">RandomForestClassifier</label><div class=\"sk-toggleable__content\"><pre>RandomForestClassifier(n_estimators=300)</pre></div></div></div></div></div>"
      ],
      "text/plain": [
       "RandomForestClassifier(n_estimators=300)"
      ]
     },
     "execution_count": 261,
     "metadata": {},
     "output_type": "execute_result"
    }
   ],
   "source": [
    "model.fit(X_train, labs_forest)"
   ]
  },
  {
   "cell_type": "code",
   "execution_count": 263,
   "id": "5efddb39",
   "metadata": {},
   "outputs": [
    {
     "data": {
      "text/plain": [
       "0.12898936170212766"
      ]
     },
     "execution_count": 263,
     "metadata": {},
     "output_type": "execute_result"
    }
   ],
   "source": [
    "model.score(X_val, y_val)"
   ]
  },
  {
   "cell_type": "code",
   "execution_count": null,
   "id": "86160642",
   "metadata": {},
   "outputs": [],
   "source": []
  }
 ],
 "metadata": {
  "kernelspec": {
   "display_name": "324Project",
   "language": "python",
   "name": "324project"
  },
  "language_info": {
   "codemirror_mode": {
    "name": "ipython",
    "version": 3
   },
   "file_extension": ".py",
   "mimetype": "text/x-python",
   "name": "python",
   "nbconvert_exporter": "python",
   "pygments_lexer": "ipython3",
   "version": "3.8.10"
  }
 },
 "nbformat": 4,
 "nbformat_minor": 5
}
